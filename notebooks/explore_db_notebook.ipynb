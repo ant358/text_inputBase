{
 "cells": [
  {
   "cell_type": "code",
   "execution_count": 6,
   "metadata": {},
   "outputs": [],
   "source": [
    "import sqlalchemy as sq \n",
    "import pandas as pd\n",
    "\n",
    "# Create a connection to the database\n",
    "engine = sq.create_engine('sqlite:///../data/text.db')\n",
    "\n",
    "# Query the database\n",
    "query = \"SELECT COUNT(*) FROM articles\"\n",
    "with engine.connect() as conn:\n",
    "    rows = engine.execute(query)"
   ]
  },
  {
   "cell_type": "code",
   "execution_count": 7,
   "metadata": {},
   "outputs": [],
   "source": [
    "# read cursor result\n",
    "rows = rows.first()"
   ]
  },
  {
   "cell_type": "code",
   "execution_count": 9,
   "metadata": {},
   "outputs": [
    {
     "data": {
      "text/plain": [
       "1116"
      ]
     },
     "execution_count": 9,
     "metadata": {},
     "output_type": "execute_result"
    }
   ],
   "source": [
    "rows[0]  # type: ignore"
   ]
  },
  {
   "cell_type": "code",
   "execution_count": null,
   "metadata": {},
   "outputs": [],
   "source": []
  }
 ],
 "metadata": {
  "kernelspec": {
   "display_name": "venv",
   "language": "python",
   "name": "python3"
  },
  "language_info": {
   "codemirror_mode": {
    "name": "ipython",
    "version": 3
   },
   "file_extension": ".py",
   "mimetype": "text/x-python",
   "name": "python",
   "nbconvert_exporter": "python",
   "pygments_lexer": "ipython3",
   "version": "3.9.7"
  },
  "orig_nbformat": 4,
  "vscode": {
   "interpreter": {
    "hash": "e6f70f3415bf535d9bf41a24dfcee9e791993c39680cbc1cbdad24f40d765247"
   }
  }
 },
 "nbformat": 4,
 "nbformat_minor": 2
}
